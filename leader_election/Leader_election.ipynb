{
 "cells": [
  {
   "cell_type": "markdown",
   "metadata": {},
   "source": [
    "# Leader election notebook\n",
    "\n",
    "This notebook has the scaffold you need for the leader election algorithm. You can run the sections below and try to send a message using the leader_election_test notebook.\n",
    "\n",
    "Once you've added the main logic of the leader election, you can start multiple notebooks in a chain and use"
   ]
  },
  {
   "cell_type": "code",
   "execution_count": 1,
   "metadata": {},
   "outputs": [],
   "source": [
    "import zmq\n",
    "import time\n",
    "from random import randint\n",
    "\n",
    "# This is the topic that new leader elections are coordinated on\n",
    "LEADER_TOPIC = \"LeaderTime\"\n",
    " # Seeing this message should trigger a new election\n",
    "NEW_ELECTION = \"?\"\n",
    "# This gets added in front of an ID to identify the new leader.\n",
    "LEADER_ACCEPT_TOKEN = \"!\" "
   ]
  },
  {
   "cell_type": "code",
   "execution_count": 2,
   "metadata": {},
   "outputs": [],
   "source": [
    "def do_leader_election(recv_port=8001, send_port=8002, UID=1):\n",
    "    u = UID\n",
    "\n",
    "    context = zmq.Context()\n",
    "    socket_send = context.socket(zmq.PUB)\n",
    "    socket_send.bind(f\"tcp://*:{send_port}\")\n",
    "    print(f\"Running publisher on port: {send_port}\")\n",
    "\n",
    "    socket_recv = context.socket(zmq.SUB)\n",
    "    socket_recv.connect(f\"tcp://localhost:{recv_port}\")\n",
    "    socket_recv.setsockopt_string(zmq.SUBSCRIBE, LEADER_TOPIC)\n",
    "    print(f\"Subscribing to messages of topic '{LEADER_TOPIC}' on port {recv_port}\")\n",
    "\n",
    "    poller = zmq.Poller()\n",
    "    poller.register(socket_recv, zmq.POLLIN)\n",
    "    print(f\"Registered a poller which tells us when new messages arrive\")\n",
    "\n",
    "    should_continue = True\n",
    "    # We will terminate on receiving 3 messages\n",
    "    N = 3\n",
    "\n",
    "    while should_continue:\n",
    "        # MAIN LOGIC HERE\n",
    "        # Grab the current messages waiting for us\n",
    "        try:\n",
    "            msg = socket_recv.recv_string(flags=zmq.NOBLOCK)\n",
    "            print(f\"Received: {msg}\")\n",
    "            N -= 1\n",
    "        except zmq.Again as e:\n",
    "            # We came through without a message :(\n",
    "            # ZMQ shows us this by raising an error.\n",
    "            print(f\"No message yet: {e}\")\n",
    "            msg = None\n",
    "        should_continue = (N > 0)\n",
    "        time.sleep(2)"
   ]
  },
  {
   "cell_type": "code",
   "execution_count": 3,
   "metadata": {},
   "outputs": [
    {
     "name": "stdout",
     "output_type": "stream",
     "text": [
      "Running publisher on port: 8002\n",
      "Subscribing to messages of topic 'LeaderTime' on port 8001\n",
      "Registered a poller which tells us when new messages arrive\n",
      "No message yet: Resource temporarily unavailable\n",
      "No message yet: Resource temporarily unavailable\n",
      "No message yet: Resource temporarily unavailable\n",
      "No message yet: Resource temporarily unavailable\n",
      "No message yet: Resource temporarily unavailable\n",
      "Received: LeaderTime Hello\n",
      "No message yet: Resource temporarily unavailable\n",
      "No message yet: Resource temporarily unavailable\n",
      "No message yet: Resource temporarily unavailable\n",
      "No message yet: Resource temporarily unavailable\n",
      "No message yet: Resource temporarily unavailable\n",
      "No message yet: Resource temporarily unavailable\n",
      "No message yet: Resource temporarily unavailable\n",
      "No message yet: Resource temporarily unavailable\n",
      "No message yet: Resource temporarily unavailable\n",
      "No message yet: Resource temporarily unavailable\n",
      "No message yet: Resource temporarily unavailable\n",
      "No message yet: Resource temporarily unavailable\n",
      "No message yet: Resource temporarily unavailable\n",
      "No message yet: Resource temporarily unavailable\n",
      "No message yet: Resource temporarily unavailable\n",
      "No message yet: Resource temporarily unavailable\n",
      "No message yet: Resource temporarily unavailable\n",
      "No message yet: Resource temporarily unavailable\n",
      "No message yet: Resource temporarily unavailable\n",
      "No message yet: Resource temporarily unavailable\n",
      "No message yet: Resource temporarily unavailable\n",
      "No message yet: Resource temporarily unavailable\n",
      "No message yet: Resource temporarily unavailable\n",
      "No message yet: Resource temporarily unavailable\n",
      "No message yet: Resource temporarily unavailable\n",
      "No message yet: Resource temporarily unavailable\n",
      "No message yet: Resource temporarily unavailable\n",
      "No message yet: Resource temporarily unavailable\n",
      "No message yet: Resource temporarily unavailable\n",
      "No message yet: Resource temporarily unavailable\n",
      "No message yet: Resource temporarily unavailable\n",
      "No message yet: Resource temporarily unavailable\n",
      "No message yet: Resource temporarily unavailable\n",
      "No message yet: Resource temporarily unavailable\n",
      "No message yet: Resource temporarily unavailable\n",
      "No message yet: Resource temporarily unavailable\n",
      "No message yet: Resource temporarily unavailable\n"
     ]
    },
    {
     "ename": "KeyboardInterrupt",
     "evalue": "",
     "output_type": "error",
     "traceback": [
      "\u001b[0;31m---------------------------------------------------------------------------\u001b[0m",
      "\u001b[0;31mKeyboardInterrupt\u001b[0m                         Traceback (most recent call last)",
      "\u001b[0;32m<ipython-input-3-e3a91cda4257>\u001b[0m in \u001b[0;36m<module>\u001b[0;34m()\u001b[0m\n\u001b[1;32m      1\u001b[0m \u001b[0;31m# Trial call\u001b[0m\u001b[0;34m\u001b[0m\u001b[0;34m\u001b[0m\u001b[0m\n\u001b[0;32m----> 2\u001b[0;31m \u001b[0mdo_leader_election\u001b[0m\u001b[0;34m(\u001b[0m\u001b[0;34m)\u001b[0m\u001b[0;34m\u001b[0m\u001b[0m\n\u001b[0m",
      "\u001b[0;32m<ipython-input-2-da505f8f11db>\u001b[0m in \u001b[0;36mdo_leader_election\u001b[0;34m(recv_port, send_port, UID)\u001b[0m\n\u001b[1;32m     33\u001b[0m             \u001b[0mmsg\u001b[0m \u001b[0;34m=\u001b[0m \u001b[0;32mNone\u001b[0m\u001b[0;34m\u001b[0m\u001b[0m\n\u001b[1;32m     34\u001b[0m         \u001b[0mshould_continue\u001b[0m \u001b[0;34m=\u001b[0m \u001b[0;34m(\u001b[0m\u001b[0mN\u001b[0m \u001b[0;34m>\u001b[0m \u001b[0;36m0\u001b[0m\u001b[0;34m)\u001b[0m\u001b[0;34m\u001b[0m\u001b[0m\n\u001b[0;32m---> 35\u001b[0;31m         \u001b[0mtime\u001b[0m\u001b[0;34m.\u001b[0m\u001b[0msleep\u001b[0m\u001b[0;34m(\u001b[0m\u001b[0;36m2\u001b[0m\u001b[0;34m)\u001b[0m\u001b[0;34m\u001b[0m\u001b[0m\n\u001b[0m",
      "\u001b[0;31mKeyboardInterrupt\u001b[0m: "
     ]
    }
   ],
   "source": [
    "# Trial call\n",
    "do_leader_election()"
   ]
  },
  {
   "cell_type": "code",
   "execution_count": null,
   "metadata": {},
   "outputs": [],
   "source": []
  }
 ],
 "metadata": {
  "kernelspec": {
   "display_name": "Python 3",
   "language": "python",
   "name": "python3"
  },
  "language_info": {
   "codemirror_mode": {
    "name": "ipython",
    "version": 3
   },
   "file_extension": ".py",
   "mimetype": "text/x-python",
   "name": "python",
   "nbconvert_exporter": "python",
   "pygments_lexer": "ipython3",
   "version": "3.6.4"
  }
 },
 "nbformat": 4,
 "nbformat_minor": 2
}
